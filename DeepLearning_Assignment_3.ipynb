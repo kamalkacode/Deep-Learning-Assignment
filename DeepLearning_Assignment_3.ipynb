{
 "cells": [
  {
   "cell_type": "code",
   "execution_count": 89,
   "metadata": {
    "id": "wz0k0xcF0vwh"
   },
   "outputs": [],
   "source": [
    "import numpy as np\n",
    "import pandas as pd\n",
    "import matplotlib.pyplot as plt\n",
    "from sklearn import preprocessing\n",
    "from collections import deque\n",
    "import random\n",
    "import time\n",
    "import tensorflow\n",
    "from tensorflow.keras.models import Sequential\n",
    "from tensorflow.keras.layers import Dense, Dropout,SimpleRNN, LSTM, GRU, BatchNormalization\n",
    "from tensorflow.keras.callbacks import TensorBoard, ModelCheckpoint\n",
    "import warnings \n",
    "warnings.filterwarnings(\"ignore\")"
   ]
  },
  {
   "cell_type": "code",
   "execution_count": 90,
   "metadata": {
    "colab": {
     "base_uri": "https://localhost:8080/",
     "height": 108,
     "resources": {
      "http://localhost:8080/nbextensions/google.colab/files.js": {
       "data": "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",
       "headers": [
        [
         "content-type",
         "application/javascript"
        ]
       ],
       "ok": true,
       "status": 200,
       "status_text": ""
      }
     }
    },
    "id": "ssZbiBfY0vwn",
    "outputId": "8915e74c-b806-4296-b71e-f6f418958ee8"
   },
   "outputs": [],
   "source": [
    "# from google.colab import files\n",
    "# uploaded = files.upload()"
   ]
  },
  {
   "cell_type": "code",
   "execution_count": 91,
   "metadata": {
    "id": "JnFl7oVp0vwq"
   },
   "outputs": [],
   "source": [
    "# import io\n",
    "# df = pd.read_csv(io.BytesIO(uploaded['Google_Stock_Price_Train.csv']), parse_dates=['Date'])"
   ]
  },
  {
   "cell_type": "code",
   "execution_count": 92,
   "metadata": {
    "id": "XuUjUnn01Fcf"
   },
   "outputs": [],
   "source": [
    "# df_test = pd.read_csv(io.BytesIO(uploaded['Google_Stock_Price_Test.csv']), parse_dates=['Date'])"
   ]
  },
  {
   "cell_type": "code",
   "execution_count": 93,
   "metadata": {
    "id": "B5UB1vMs0vwu"
   },
   "outputs": [],
   "source": [
    "df = pd.read_csv('Google_Stock_Price_Train.csv', parse_dates=['Date'])"
   ]
  },
  {
   "cell_type": "code",
   "execution_count": 94,
   "metadata": {
    "id": "zfF2uCgC0vwx"
   },
   "outputs": [],
   "source": [
    "df_test = pd.read_csv('Google_Stock_Price_Test.csv', parse_dates=['Date'])"
   ]
  },
  {
   "cell_type": "code",
   "execution_count": 95,
   "metadata": {
    "id": "uMZZki960vw0"
   },
   "outputs": [],
   "source": [
    "frames = [df, df_test]"
   ]
  },
  {
   "cell_type": "code",
   "execution_count": 96,
   "metadata": {
    "id": "2NuxokWA0vw3"
   },
   "outputs": [],
   "source": [
    "df_main = pd.concat(frames)"
   ]
  },
  {
   "cell_type": "code",
   "execution_count": 97,
   "metadata": {
    "colab": {
     "base_uri": "https://localhost:8080/",
     "height": 402
    },
    "id": "c7OJ4Jlm0vw7",
    "outputId": "a4e47da3-d84c-4402-f29b-96dc091dc32a"
   },
   "outputs": [
    {
     "data": {
      "text/html": [
       "<div>\n",
       "<style scoped>\n",
       "    .dataframe tbody tr th:only-of-type {\n",
       "        vertical-align: middle;\n",
       "    }\n",
       "\n",
       "    .dataframe tbody tr th {\n",
       "        vertical-align: top;\n",
       "    }\n",
       "\n",
       "    .dataframe thead th {\n",
       "        text-align: right;\n",
       "    }\n",
       "</style>\n",
       "<table border=\"1\" class=\"dataframe\">\n",
       "  <thead>\n",
       "    <tr style=\"text-align: right;\">\n",
       "      <th></th>\n",
       "      <th>Date</th>\n",
       "      <th>Open</th>\n",
       "      <th>High</th>\n",
       "      <th>Low</th>\n",
       "      <th>Close</th>\n",
       "      <th>Volume</th>\n",
       "    </tr>\n",
       "  </thead>\n",
       "  <tbody>\n",
       "    <tr>\n",
       "      <th>0</th>\n",
       "      <td>2012-01-03</td>\n",
       "      <td>325.25</td>\n",
       "      <td>332.83</td>\n",
       "      <td>324.97</td>\n",
       "      <td>663.59</td>\n",
       "      <td>7,380,500</td>\n",
       "    </tr>\n",
       "    <tr>\n",
       "      <th>1</th>\n",
       "      <td>2012-01-04</td>\n",
       "      <td>331.27</td>\n",
       "      <td>333.87</td>\n",
       "      <td>329.08</td>\n",
       "      <td>666.45</td>\n",
       "      <td>5,749,400</td>\n",
       "    </tr>\n",
       "    <tr>\n",
       "      <th>2</th>\n",
       "      <td>2012-01-05</td>\n",
       "      <td>329.83</td>\n",
       "      <td>330.75</td>\n",
       "      <td>326.89</td>\n",
       "      <td>657.21</td>\n",
       "      <td>6,590,300</td>\n",
       "    </tr>\n",
       "    <tr>\n",
       "      <th>3</th>\n",
       "      <td>2012-01-06</td>\n",
       "      <td>328.34</td>\n",
       "      <td>328.77</td>\n",
       "      <td>323.68</td>\n",
       "      <td>648.24</td>\n",
       "      <td>5,405,900</td>\n",
       "    </tr>\n",
       "    <tr>\n",
       "      <th>4</th>\n",
       "      <td>2012-01-09</td>\n",
       "      <td>322.04</td>\n",
       "      <td>322.29</td>\n",
       "      <td>309.46</td>\n",
       "      <td>620.76</td>\n",
       "      <td>11,688,800</td>\n",
       "    </tr>\n",
       "    <tr>\n",
       "      <th>...</th>\n",
       "      <td>...</td>\n",
       "      <td>...</td>\n",
       "      <td>...</td>\n",
       "      <td>...</td>\n",
       "      <td>...</td>\n",
       "      <td>...</td>\n",
       "    </tr>\n",
       "    <tr>\n",
       "      <th>14</th>\n",
       "      <td>2017-01-24</td>\n",
       "      <td>822.30</td>\n",
       "      <td>825.90</td>\n",
       "      <td>817.82</td>\n",
       "      <td>823.87</td>\n",
       "      <td>1,474,000</td>\n",
       "    </tr>\n",
       "    <tr>\n",
       "      <th>15</th>\n",
       "      <td>2017-01-25</td>\n",
       "      <td>829.62</td>\n",
       "      <td>835.77</td>\n",
       "      <td>825.06</td>\n",
       "      <td>835.67</td>\n",
       "      <td>1,494,500</td>\n",
       "    </tr>\n",
       "    <tr>\n",
       "      <th>16</th>\n",
       "      <td>2017-01-26</td>\n",
       "      <td>837.81</td>\n",
       "      <td>838.00</td>\n",
       "      <td>827.01</td>\n",
       "      <td>832.15</td>\n",
       "      <td>2,973,900</td>\n",
       "    </tr>\n",
       "    <tr>\n",
       "      <th>17</th>\n",
       "      <td>2017-01-27</td>\n",
       "      <td>834.71</td>\n",
       "      <td>841.95</td>\n",
       "      <td>820.44</td>\n",
       "      <td>823.31</td>\n",
       "      <td>2,965,800</td>\n",
       "    </tr>\n",
       "    <tr>\n",
       "      <th>18</th>\n",
       "      <td>2017-01-30</td>\n",
       "      <td>814.66</td>\n",
       "      <td>815.84</td>\n",
       "      <td>799.80</td>\n",
       "      <td>802.32</td>\n",
       "      <td>3,246,600</td>\n",
       "    </tr>\n",
       "  </tbody>\n",
       "</table>\n",
       "<p>1277 rows × 6 columns</p>\n",
       "</div>"
      ],
      "text/plain": [
       "         Date    Open    High     Low   Close      Volume\n",
       "0  2012-01-03  325.25  332.83  324.97  663.59   7,380,500\n",
       "1  2012-01-04  331.27  333.87  329.08  666.45   5,749,400\n",
       "2  2012-01-05  329.83  330.75  326.89  657.21   6,590,300\n",
       "3  2012-01-06  328.34  328.77  323.68  648.24   5,405,900\n",
       "4  2012-01-09  322.04  322.29  309.46  620.76  11,688,800\n",
       "..        ...     ...     ...     ...     ...         ...\n",
       "14 2017-01-24  822.30  825.90  817.82  823.87   1,474,000\n",
       "15 2017-01-25  829.62  835.77  825.06  835.67   1,494,500\n",
       "16 2017-01-26  837.81  838.00  827.01  832.15   2,973,900\n",
       "17 2017-01-27  834.71  841.95  820.44  823.31   2,965,800\n",
       "18 2017-01-30  814.66  815.84  799.80  802.32   3,246,600\n",
       "\n",
       "[1277 rows x 6 columns]"
      ]
     },
     "execution_count": 97,
     "metadata": {},
     "output_type": "execute_result"
    }
   ],
   "source": [
    "df_main.head(-1)"
   ]
  },
  {
   "cell_type": "code",
   "execution_count": 98,
   "metadata": {
    "id": "vXdzG3Et0vw-",
    "scrolled": true
   },
   "outputs": [],
   "source": [
    "df_main = df_main.reset_index()"
   ]
  },
  {
   "cell_type": "code",
   "execution_count": 99,
   "metadata": {
    "colab": {
     "base_uri": "https://localhost:8080/",
     "height": 402
    },
    "id": "MlatQII70vxB",
    "outputId": "78b6c9e9-ad4f-4759-8ccb-52ade0bc89d6"
   },
   "outputs": [
    {
     "data": {
      "text/html": [
       "<div>\n",
       "<style scoped>\n",
       "    .dataframe tbody tr th:only-of-type {\n",
       "        vertical-align: middle;\n",
       "    }\n",
       "\n",
       "    .dataframe tbody tr th {\n",
       "        vertical-align: top;\n",
       "    }\n",
       "\n",
       "    .dataframe thead th {\n",
       "        text-align: right;\n",
       "    }\n",
       "</style>\n",
       "<table border=\"1\" class=\"dataframe\">\n",
       "  <thead>\n",
       "    <tr style=\"text-align: right;\">\n",
       "      <th></th>\n",
       "      <th>index</th>\n",
       "      <th>Date</th>\n",
       "      <th>Open</th>\n",
       "      <th>High</th>\n",
       "      <th>Low</th>\n",
       "      <th>Close</th>\n",
       "      <th>Volume</th>\n",
       "    </tr>\n",
       "  </thead>\n",
       "  <tbody>\n",
       "    <tr>\n",
       "      <th>0</th>\n",
       "      <td>0</td>\n",
       "      <td>2012-01-03</td>\n",
       "      <td>325.25</td>\n",
       "      <td>332.83</td>\n",
       "      <td>324.97</td>\n",
       "      <td>663.59</td>\n",
       "      <td>7,380,500</td>\n",
       "    </tr>\n",
       "    <tr>\n",
       "      <th>1</th>\n",
       "      <td>1</td>\n",
       "      <td>2012-01-04</td>\n",
       "      <td>331.27</td>\n",
       "      <td>333.87</td>\n",
       "      <td>329.08</td>\n",
       "      <td>666.45</td>\n",
       "      <td>5,749,400</td>\n",
       "    </tr>\n",
       "    <tr>\n",
       "      <th>2</th>\n",
       "      <td>2</td>\n",
       "      <td>2012-01-05</td>\n",
       "      <td>329.83</td>\n",
       "      <td>330.75</td>\n",
       "      <td>326.89</td>\n",
       "      <td>657.21</td>\n",
       "      <td>6,590,300</td>\n",
       "    </tr>\n",
       "    <tr>\n",
       "      <th>3</th>\n",
       "      <td>3</td>\n",
       "      <td>2012-01-06</td>\n",
       "      <td>328.34</td>\n",
       "      <td>328.77</td>\n",
       "      <td>323.68</td>\n",
       "      <td>648.24</td>\n",
       "      <td>5,405,900</td>\n",
       "    </tr>\n",
       "    <tr>\n",
       "      <th>4</th>\n",
       "      <td>4</td>\n",
       "      <td>2012-01-09</td>\n",
       "      <td>322.04</td>\n",
       "      <td>322.29</td>\n",
       "      <td>309.46</td>\n",
       "      <td>620.76</td>\n",
       "      <td>11,688,800</td>\n",
       "    </tr>\n",
       "    <tr>\n",
       "      <th>...</th>\n",
       "      <td>...</td>\n",
       "      <td>...</td>\n",
       "      <td>...</td>\n",
       "      <td>...</td>\n",
       "      <td>...</td>\n",
       "      <td>...</td>\n",
       "      <td>...</td>\n",
       "    </tr>\n",
       "    <tr>\n",
       "      <th>1255</th>\n",
       "      <td>1255</td>\n",
       "      <td>2016-12-28</td>\n",
       "      <td>793.70</td>\n",
       "      <td>794.23</td>\n",
       "      <td>783.20</td>\n",
       "      <td>785.05</td>\n",
       "      <td>1,153,800</td>\n",
       "    </tr>\n",
       "    <tr>\n",
       "      <th>1256</th>\n",
       "      <td>1256</td>\n",
       "      <td>2016-12-29</td>\n",
       "      <td>783.33</td>\n",
       "      <td>785.93</td>\n",
       "      <td>778.92</td>\n",
       "      <td>782.79</td>\n",
       "      <td>744,300</td>\n",
       "    </tr>\n",
       "    <tr>\n",
       "      <th>1257</th>\n",
       "      <td>1257</td>\n",
       "      <td>2016-12-30</td>\n",
       "      <td>782.75</td>\n",
       "      <td>782.78</td>\n",
       "      <td>770.41</td>\n",
       "      <td>771.82</td>\n",
       "      <td>1,770,000</td>\n",
       "    </tr>\n",
       "    <tr>\n",
       "      <th>1258</th>\n",
       "      <td>0</td>\n",
       "      <td>2017-01-03</td>\n",
       "      <td>778.81</td>\n",
       "      <td>789.63</td>\n",
       "      <td>775.80</td>\n",
       "      <td>786.14</td>\n",
       "      <td>1,657,300</td>\n",
       "    </tr>\n",
       "    <tr>\n",
       "      <th>1259</th>\n",
       "      <td>1</td>\n",
       "      <td>2017-01-04</td>\n",
       "      <td>788.36</td>\n",
       "      <td>791.34</td>\n",
       "      <td>783.16</td>\n",
       "      <td>786.9</td>\n",
       "      <td>1,073,000</td>\n",
       "    </tr>\n",
       "  </tbody>\n",
       "</table>\n",
       "<p>1260 rows × 7 columns</p>\n",
       "</div>"
      ],
      "text/plain": [
       "      index       Date    Open    High     Low   Close      Volume\n",
       "0         0 2012-01-03  325.25  332.83  324.97  663.59   7,380,500\n",
       "1         1 2012-01-04  331.27  333.87  329.08  666.45   5,749,400\n",
       "2         2 2012-01-05  329.83  330.75  326.89  657.21   6,590,300\n",
       "3         3 2012-01-06  328.34  328.77  323.68  648.24   5,405,900\n",
       "4         4 2012-01-09  322.04  322.29  309.46  620.76  11,688,800\n",
       "...     ...        ...     ...     ...     ...     ...         ...\n",
       "1255   1255 2016-12-28  793.70  794.23  783.20  785.05   1,153,800\n",
       "1256   1256 2016-12-29  783.33  785.93  778.92  782.79     744,300\n",
       "1257   1257 2016-12-30  782.75  782.78  770.41  771.82   1,770,000\n",
       "1258      0 2017-01-03  778.81  789.63  775.80  786.14   1,657,300\n",
       "1259      1 2017-01-04  788.36  791.34  783.16   786.9   1,073,000\n",
       "\n",
       "[1260 rows x 7 columns]"
      ]
     },
     "execution_count": 99,
     "metadata": {},
     "output_type": "execute_result"
    }
   ],
   "source": [
    "df_main.head(-18)"
   ]
  },
  {
   "cell_type": "code",
   "execution_count": 100,
   "metadata": {
    "id": "bpwqcmq40vxE"
   },
   "outputs": [],
   "source": [
    "df_main = df_main.drop(columns=('index'))"
   ]
  },
  {
   "cell_type": "code",
   "execution_count": 101,
   "metadata": {
    "colab": {
     "base_uri": "https://localhost:8080/",
     "height": 402
    },
    "id": "FrsX_OWJ0vxH",
    "outputId": "3f4e838e-e447-45bf-9eb5-9b2f4e7a8716"
   },
   "outputs": [
    {
     "data": {
      "text/html": [
       "<div>\n",
       "<style scoped>\n",
       "    .dataframe tbody tr th:only-of-type {\n",
       "        vertical-align: middle;\n",
       "    }\n",
       "\n",
       "    .dataframe tbody tr th {\n",
       "        vertical-align: top;\n",
       "    }\n",
       "\n",
       "    .dataframe thead th {\n",
       "        text-align: right;\n",
       "    }\n",
       "</style>\n",
       "<table border=\"1\" class=\"dataframe\">\n",
       "  <thead>\n",
       "    <tr style=\"text-align: right;\">\n",
       "      <th></th>\n",
       "      <th>Date</th>\n",
       "      <th>Open</th>\n",
       "      <th>High</th>\n",
       "      <th>Low</th>\n",
       "      <th>Close</th>\n",
       "      <th>Volume</th>\n",
       "    </tr>\n",
       "  </thead>\n",
       "  <tbody>\n",
       "    <tr>\n",
       "      <th>0</th>\n",
       "      <td>2012-01-03</td>\n",
       "      <td>325.25</td>\n",
       "      <td>332.83</td>\n",
       "      <td>324.97</td>\n",
       "      <td>663.59</td>\n",
       "      <td>7,380,500</td>\n",
       "    </tr>\n",
       "    <tr>\n",
       "      <th>1</th>\n",
       "      <td>2012-01-04</td>\n",
       "      <td>331.27</td>\n",
       "      <td>333.87</td>\n",
       "      <td>329.08</td>\n",
       "      <td>666.45</td>\n",
       "      <td>5,749,400</td>\n",
       "    </tr>\n",
       "    <tr>\n",
       "      <th>2</th>\n",
       "      <td>2012-01-05</td>\n",
       "      <td>329.83</td>\n",
       "      <td>330.75</td>\n",
       "      <td>326.89</td>\n",
       "      <td>657.21</td>\n",
       "      <td>6,590,300</td>\n",
       "    </tr>\n",
       "    <tr>\n",
       "      <th>3</th>\n",
       "      <td>2012-01-06</td>\n",
       "      <td>328.34</td>\n",
       "      <td>328.77</td>\n",
       "      <td>323.68</td>\n",
       "      <td>648.24</td>\n",
       "      <td>5,405,900</td>\n",
       "    </tr>\n",
       "    <tr>\n",
       "      <th>4</th>\n",
       "      <td>2012-01-09</td>\n",
       "      <td>322.04</td>\n",
       "      <td>322.29</td>\n",
       "      <td>309.46</td>\n",
       "      <td>620.76</td>\n",
       "      <td>11,688,800</td>\n",
       "    </tr>\n",
       "    <tr>\n",
       "      <th>...</th>\n",
       "      <td>...</td>\n",
       "      <td>...</td>\n",
       "      <td>...</td>\n",
       "      <td>...</td>\n",
       "      <td>...</td>\n",
       "      <td>...</td>\n",
       "    </tr>\n",
       "    <tr>\n",
       "      <th>1272</th>\n",
       "      <td>2017-01-24</td>\n",
       "      <td>822.30</td>\n",
       "      <td>825.90</td>\n",
       "      <td>817.82</td>\n",
       "      <td>823.87</td>\n",
       "      <td>1,474,000</td>\n",
       "    </tr>\n",
       "    <tr>\n",
       "      <th>1273</th>\n",
       "      <td>2017-01-25</td>\n",
       "      <td>829.62</td>\n",
       "      <td>835.77</td>\n",
       "      <td>825.06</td>\n",
       "      <td>835.67</td>\n",
       "      <td>1,494,500</td>\n",
       "    </tr>\n",
       "    <tr>\n",
       "      <th>1274</th>\n",
       "      <td>2017-01-26</td>\n",
       "      <td>837.81</td>\n",
       "      <td>838.00</td>\n",
       "      <td>827.01</td>\n",
       "      <td>832.15</td>\n",
       "      <td>2,973,900</td>\n",
       "    </tr>\n",
       "    <tr>\n",
       "      <th>1275</th>\n",
       "      <td>2017-01-27</td>\n",
       "      <td>834.71</td>\n",
       "      <td>841.95</td>\n",
       "      <td>820.44</td>\n",
       "      <td>823.31</td>\n",
       "      <td>2,965,800</td>\n",
       "    </tr>\n",
       "    <tr>\n",
       "      <th>1276</th>\n",
       "      <td>2017-01-30</td>\n",
       "      <td>814.66</td>\n",
       "      <td>815.84</td>\n",
       "      <td>799.80</td>\n",
       "      <td>802.32</td>\n",
       "      <td>3,246,600</td>\n",
       "    </tr>\n",
       "  </tbody>\n",
       "</table>\n",
       "<p>1277 rows × 6 columns</p>\n",
       "</div>"
      ],
      "text/plain": [
       "           Date    Open    High     Low   Close      Volume\n",
       "0    2012-01-03  325.25  332.83  324.97  663.59   7,380,500\n",
       "1    2012-01-04  331.27  333.87  329.08  666.45   5,749,400\n",
       "2    2012-01-05  329.83  330.75  326.89  657.21   6,590,300\n",
       "3    2012-01-06  328.34  328.77  323.68  648.24   5,405,900\n",
       "4    2012-01-09  322.04  322.29  309.46  620.76  11,688,800\n",
       "...         ...     ...     ...     ...     ...         ...\n",
       "1272 2017-01-24  822.30  825.90  817.82  823.87   1,474,000\n",
       "1273 2017-01-25  829.62  835.77  825.06  835.67   1,494,500\n",
       "1274 2017-01-26  837.81  838.00  827.01  832.15   2,973,900\n",
       "1275 2017-01-27  834.71  841.95  820.44  823.31   2,965,800\n",
       "1276 2017-01-30  814.66  815.84  799.80  802.32   3,246,600\n",
       "\n",
       "[1277 rows x 6 columns]"
      ]
     },
     "execution_count": 101,
     "metadata": {},
     "output_type": "execute_result"
    }
   ],
   "source": [
    "df_main.head(-1)"
   ]
  },
  {
   "cell_type": "code",
   "execution_count": 102,
   "metadata": {
    "id": "WaK6yuZK0vxK"
   },
   "outputs": [],
   "source": [
    "df_main.replace(',','', regex=True, inplace=True)"
   ]
  },
  {
   "cell_type": "code",
   "execution_count": 103,
   "metadata": {
    "id": "Wj10zfGy0vxN"
   },
   "outputs": [],
   "source": [
    "df_main['Date'] = (df_main['Date'] - pd.Timestamp(\"1970-01-01\")) // pd.Timedelta('1s')"
   ]
  },
  {
   "cell_type": "code",
   "execution_count": 104,
   "metadata": {
    "id": "S8JXuv6U0vxR"
   },
   "outputs": [],
   "source": [
    "df_main['Open'] = pd.to_numeric(df_main['Open'], downcast=\"float\")\n",
    "df_main['High'] = pd.to_numeric(df_main['High'], downcast=\"float\")\n",
    "df_main['Low'] = pd.to_numeric(df_main['Low'], downcast=\"float\")\n",
    "df_main['Close'] = pd.to_numeric(df_main['Close'], downcast=\"float\")\n",
    "df_main['Volume'] = pd.to_numeric(df_main['Volume'], downcast=\"float\")"
   ]
  },
  {
   "cell_type": "code",
   "execution_count": 105,
   "metadata": {},
   "outputs": [
    {
     "data": {
      "text/plain": [
       "array([[<AxesSubplot:title={'center':'Date'}>,\n",
       "        <AxesSubplot:title={'center':'Open'}>],\n",
       "       [<AxesSubplot:title={'center':'High'}>,\n",
       "        <AxesSubplot:title={'center':'Low'}>],\n",
       "       [<AxesSubplot:title={'center':'Close'}>,\n",
       "        <AxesSubplot:title={'center':'Volume'}>]], dtype=object)"
      ]
     },
     "execution_count": 105,
     "metadata": {},
     "output_type": "execute_result"
    },
    {
     "data": {
      "image/png": "[encoded data removed]",
      "text/plain": [
       "<Figure size 1440x1440 with 6 Axes>"
      ]
     },
     "metadata": {
      "needs_background": "light"
     },
     "output_type": "display_data"
    }
   ],
   "source": [
    "fig = plt.figure(figsize = (20,20))\n",
    "ax = fig.gca()\n",
    "df_main.hist(ax = ax)"
   ]
  },
  {
   "cell_type": "code",
   "execution_count": 106,
   "metadata": {
    "id": "aSmqUSpN0vxT"
   },
   "outputs": [],
   "source": [
    "df_main['Close'].iloc[0:560] = df_main['Close'].iloc[0:560]/2.002  # 1000 shares split into 2002 so divide it by 2.002 upto 26 march 2014"
   ]
  },
  {
   "cell_type": "code",
   "execution_count": 107,
   "metadata": {
    "colab": {
     "base_uri": "https://localhost:8080/",
     "height": 402
    },
    "id": "lb4XnPbw0vxX",
    "outputId": "45c73245-f92c-4987-cbb0-b1707c82ae94",
    "scrolled": true
   },
   "outputs": [
    {
     "data": {
      "text/html": [
       "<div>\n",
       "<style scoped>\n",
       "    .dataframe tbody tr th:only-of-type {\n",
       "        vertical-align: middle;\n",
       "    }\n",
       "\n",
       "    .dataframe tbody tr th {\n",
       "        vertical-align: top;\n",
       "    }\n",
       "\n",
       "    .dataframe thead th {\n",
       "        text-align: right;\n",
       "    }\n",
       "</style>\n",
       "<table border=\"1\" class=\"dataframe\">\n",
       "  <thead>\n",
       "    <tr style=\"text-align: right;\">\n",
       "      <th></th>\n",
       "      <th>Date</th>\n",
       "      <th>Open</th>\n",
       "      <th>High</th>\n",
       "      <th>Low</th>\n",
       "      <th>Close</th>\n",
       "      <th>Volume</th>\n",
       "    </tr>\n",
       "  </thead>\n",
       "  <tbody>\n",
       "    <tr>\n",
       "      <th>0</th>\n",
       "      <td>1325548800</td>\n",
       "      <td>325.250000</td>\n",
       "      <td>332.829987</td>\n",
       "      <td>324.970001</td>\n",
       "      <td>331.463531</td>\n",
       "      <td>7380500.0</td>\n",
       "    </tr>\n",
       "    <tr>\n",
       "      <th>1</th>\n",
       "      <td>1325635200</td>\n",
       "      <td>331.269989</td>\n",
       "      <td>333.869995</td>\n",
       "      <td>329.079987</td>\n",
       "      <td>332.892090</td>\n",
       "      <td>5749400.0</td>\n",
       "    </tr>\n",
       "    <tr>\n",
       "      <th>2</th>\n",
       "      <td>1325721600</td>\n",
       "      <td>329.829987</td>\n",
       "      <td>330.750000</td>\n",
       "      <td>326.890015</td>\n",
       "      <td>328.276733</td>\n",
       "      <td>6590300.0</td>\n",
       "    </tr>\n",
       "    <tr>\n",
       "      <th>3</th>\n",
       "      <td>1325808000</td>\n",
       "      <td>328.339996</td>\n",
       "      <td>328.769989</td>\n",
       "      <td>323.679993</td>\n",
       "      <td>323.796173</td>\n",
       "      <td>5405900.0</td>\n",
       "    </tr>\n",
       "    <tr>\n",
       "      <th>4</th>\n",
       "      <td>1326067200</td>\n",
       "      <td>322.040009</td>\n",
       "      <td>322.290009</td>\n",
       "      <td>309.459991</td>\n",
       "      <td>310.069916</td>\n",
       "      <td>11688800.0</td>\n",
       "    </tr>\n",
       "    <tr>\n",
       "      <th>...</th>\n",
       "      <td>...</td>\n",
       "      <td>...</td>\n",
       "      <td>...</td>\n",
       "      <td>...</td>\n",
       "      <td>...</td>\n",
       "      <td>...</td>\n",
       "    </tr>\n",
       "    <tr>\n",
       "      <th>556</th>\n",
       "      <td>1395360000</td>\n",
       "      <td>600.900024</td>\n",
       "      <td>602.559998</td>\n",
       "      <td>589.020020</td>\n",
       "      <td>589.310669</td>\n",
       "      <td>6441000.0</td>\n",
       "    </tr>\n",
       "    <tr>\n",
       "      <th>557</th>\n",
       "      <td>1395619200</td>\n",
       "      <td>589.880005</td>\n",
       "      <td>590.239990</td>\n",
       "      <td>570.840027</td>\n",
       "      <td>576.803162</td>\n",
       "      <td>6096800.0</td>\n",
       "    </tr>\n",
       "    <tr>\n",
       "      <th>558</th>\n",
       "      <td>1395705600</td>\n",
       "      <td>580.820007</td>\n",
       "      <td>582.739990</td>\n",
       "      <td>571.359985</td>\n",
       "      <td>577.197815</td>\n",
       "      <td>4838400.0</td>\n",
       "    </tr>\n",
       "    <tr>\n",
       "      <th>559</th>\n",
       "      <td>1395792000</td>\n",
       "      <td>578.840027</td>\n",
       "      <td>583.599976</td>\n",
       "      <td>563.640015</td>\n",
       "      <td>563.871094</td>\n",
       "      <td>5179200.0</td>\n",
       "    </tr>\n",
       "    <tr>\n",
       "      <th>560</th>\n",
       "      <td>1395878400</td>\n",
       "      <td>566.440002</td>\n",
       "      <td>566.440002</td>\n",
       "      <td>551.409973</td>\n",
       "      <td>556.929993</td>\n",
       "      <td>13100.0</td>\n",
       "    </tr>\n",
       "  </tbody>\n",
       "</table>\n",
       "<p>561 rows × 6 columns</p>\n",
       "</div>"
      ],
      "text/plain": [
       "           Date        Open        High         Low       Close      Volume\n",
       "0    1325548800  325.250000  332.829987  324.970001  331.463531   7380500.0\n",
       "1    1325635200  331.269989  333.869995  329.079987  332.892090   5749400.0\n",
       "2    1325721600  329.829987  330.750000  326.890015  328.276733   6590300.0\n",
       "3    1325808000  328.339996  328.769989  323.679993  323.796173   5405900.0\n",
       "4    1326067200  322.040009  322.290009  309.459991  310.069916  11688800.0\n",
       "..          ...         ...         ...         ...         ...         ...\n",
       "556  1395360000  600.900024  602.559998  589.020020  589.310669   6441000.0\n",
       "557  1395619200  589.880005  590.239990  570.840027  576.803162   6096800.0\n",
       "558  1395705600  580.820007  582.739990  571.359985  577.197815   4838400.0\n",
       "559  1395792000  578.840027  583.599976  563.640015  563.871094   5179200.0\n",
       "560  1395878400  566.440002  566.440002  551.409973  556.929993     13100.0\n",
       "\n",
       "[561 rows x 6 columns]"
      ]
     },
     "execution_count": 107,
     "metadata": {},
     "output_type": "execute_result"
    }
   ],
   "source": [
    "df_main.head(561)"
   ]
  },
  {
   "cell_type": "code",
   "execution_count": 108,
   "metadata": {
    "colab": {
     "base_uri": "https://localhost:8080/",
     "height": 195
    },
    "id": "O1Rkjc6m0vxZ",
    "outputId": "56d0f27d-ac6c-4172-c77d-ab0467fac62a"
   },
   "outputs": [
    {
     "data": {
      "text/html": [
       "<div>\n",
       "<style scoped>\n",
       "    .dataframe tbody tr th:only-of-type {\n",
       "        vertical-align: middle;\n",
       "    }\n",
       "\n",
       "    .dataframe tbody tr th {\n",
       "        vertical-align: top;\n",
       "    }\n",
       "\n",
       "    .dataframe thead th {\n",
       "        text-align: right;\n",
       "    }\n",
       "</style>\n",
       "<table border=\"1\" class=\"dataframe\">\n",
       "  <thead>\n",
       "    <tr style=\"text-align: right;\">\n",
       "      <th></th>\n",
       "      <th>Date</th>\n",
       "      <th>Open</th>\n",
       "      <th>High</th>\n",
       "      <th>Low</th>\n",
       "      <th>Close</th>\n",
       "      <th>Volume</th>\n",
       "    </tr>\n",
       "  </thead>\n",
       "  <tbody>\n",
       "    <tr>\n",
       "      <th>0</th>\n",
       "      <td>1325548800</td>\n",
       "      <td>325.250000</td>\n",
       "      <td>332.829987</td>\n",
       "      <td>324.970001</td>\n",
       "      <td>331.463531</td>\n",
       "      <td>7380500.0</td>\n",
       "    </tr>\n",
       "    <tr>\n",
       "      <th>1</th>\n",
       "      <td>1325635200</td>\n",
       "      <td>331.269989</td>\n",
       "      <td>333.869995</td>\n",
       "      <td>329.079987</td>\n",
       "      <td>332.892090</td>\n",
       "      <td>5749400.0</td>\n",
       "    </tr>\n",
       "    <tr>\n",
       "      <th>2</th>\n",
       "      <td>1325721600</td>\n",
       "      <td>329.829987</td>\n",
       "      <td>330.750000</td>\n",
       "      <td>326.890015</td>\n",
       "      <td>328.276733</td>\n",
       "      <td>6590300.0</td>\n",
       "    </tr>\n",
       "    <tr>\n",
       "      <th>3</th>\n",
       "      <td>1325808000</td>\n",
       "      <td>328.339996</td>\n",
       "      <td>328.769989</td>\n",
       "      <td>323.679993</td>\n",
       "      <td>323.796173</td>\n",
       "      <td>5405900.0</td>\n",
       "    </tr>\n",
       "    <tr>\n",
       "      <th>4</th>\n",
       "      <td>1326067200</td>\n",
       "      <td>322.040009</td>\n",
       "      <td>322.290009</td>\n",
       "      <td>309.459991</td>\n",
       "      <td>310.069916</td>\n",
       "      <td>11688800.0</td>\n",
       "    </tr>\n",
       "  </tbody>\n",
       "</table>\n",
       "</div>"
      ],
      "text/plain": [
       "         Date        Open        High         Low       Close      Volume\n",
       "0  1325548800  325.250000  332.829987  324.970001  331.463531   7380500.0\n",
       "1  1325635200  331.269989  333.869995  329.079987  332.892090   5749400.0\n",
       "2  1325721600  329.829987  330.750000  326.890015  328.276733   6590300.0\n",
       "3  1325808000  328.339996  328.769989  323.679993  323.796173   5405900.0\n",
       "4  1326067200  322.040009  322.290009  309.459991  310.069916  11688800.0"
      ]
     },
     "execution_count": 108,
     "metadata": {},
     "output_type": "execute_result"
    }
   ],
   "source": [
    "df_main.head()"
   ]
  },
  {
   "cell_type": "code",
   "execution_count": 109,
   "metadata": {
    "id": "peMNgmb10vxb"
   },
   "outputs": [],
   "source": [
    "# df_main['Daily Mean'] = [0]*len(df_main)"
   ]
  },
  {
   "cell_type": "code",
   "execution_count": 110,
   "metadata": {
    "id": "_a1YmwJ00vxd"
   },
   "outputs": [],
   "source": [
    "# for i in range(len(df_main)):\n",
    "#     df_main['Daily Mean'].iloc[i] = (df_main['Open'].iloc[i]+df_main['Close'].iloc[i])/2   # calculating daily mean"
   ]
  },
  {
   "cell_type": "code",
   "execution_count": 111,
   "metadata": {
    "id": "06ogr72B0vxj"
   },
   "outputs": [],
   "source": [
    "df_main['EMA'] = df_main['Close'].ewm(alpha=0.1, adjust=False).mean()"
   ]
  },
  {
   "cell_type": "code",
   "execution_count": 112,
   "metadata": {
    "colab": {
     "base_uri": "https://localhost:8080/",
     "height": 392
    },
    "id": "bQdVylzZ0vxl",
    "outputId": "acd1099b-0fdf-47ae-fccf-2804d6bf6226"
   },
   "outputs": [
    {
     "data": {
      "text/plain": [
       "<matplotlib.legend.Legend at 0x27aed8ba520>"
      ]
     },
     "execution_count": 112,
     "metadata": {},
     "output_type": "execute_result"
    },
    {
     "data": {
      "image/png": "[encoded data removed]",
      "text/plain": [
       "<Figure size 576x432 with 1 Axes>"
      ]
     },
     "metadata": {
      "needs_background": "light"
     },
     "output_type": "display_data"
    }
   ],
   "source": [
    "plt.figure(figsize = (8,6))\n",
    "plt.plot(df_main['Close'], label='Real')\n",
    "plt.plot(df_main['EMA'], label='Exponential Moving Average')\n",
    "plt.legend(loc = 'best')"
   ]
  },
  {
   "cell_type": "code",
   "execution_count": 113,
   "metadata": {
    "id": "t34jlOO5fbQl"
   },
   "outputs": [],
   "source": [
    "df_main['50 days Moving Average'] = df_main['Close'].shift(-20).rolling(50, min_periods = 1).mean()"
   ]
  },
  {
   "cell_type": "code",
   "execution_count": 114,
   "metadata": {
    "id": "f6S8tt8ff2VT"
   },
   "outputs": [
    {
     "data": {
      "image/png": "[encoded data removed]",
      "text/plain": [
       "<Figure size 576x432 with 1 Axes>"
      ]
     },
     "metadata": {
      "needs_background": "light"
     },
     "output_type": "display_data"
    }
   ],
   "source": [
    "plt.figure(figsize = (8,6))\n",
    "plt.plot(df_main['Close'], label='Real', color = 'grey')\n",
    "plt.plot(df_main['50 days Moving Average'], label='50 days Moving Average', color = 'green')\n",
    "plt.legend(loc = 'best')\n",
    "plt.show()"
   ]
  },
  {
   "cell_type": "code",
   "execution_count": 26,
   "metadata": {
    "id": "SYKV1tkBZ6TU"
   },
   "outputs": [],
   "source": [
    "# Calculating commodity channel index\n",
    "typical_price = (df_main['High'] + df_main['Low'] + df_main['Close'])/3\n",
    "moving_average = typical_price/20\n",
    "mean_deviation = (typical_price - moving_average)/20\n",
    "df_main['CCI'] = (typical_price - moving_average)/(0.015 * mean_deviation)"
   ]
  },
  {
   "cell_type": "code",
   "execution_count": 27,
   "metadata": {
    "colab": {
     "base_uri": "https://localhost:8080/",
     "height": 402
    },
    "id": "zLJ9zAxo0vxn",
    "outputId": "4e7bf003-43bb-471a-ec35-7d773ef0d310"
   },
   "outputs": [
    {
     "data": {
      "text/html": [
       "<div>\n",
       "<style scoped>\n",
       "    .dataframe tbody tr th:only-of-type {\n",
       "        vertical-align: middle;\n",
       "    }\n",
       "\n",
       "    .dataframe tbody tr th {\n",
       "        vertical-align: top;\n",
       "    }\n",
       "\n",
       "    .dataframe thead th {\n",
       "        text-align: right;\n",
       "    }\n",
       "</style>\n",
       "<table border=\"1\" class=\"dataframe\">\n",
       "  <thead>\n",
       "    <tr style=\"text-align: right;\">\n",
       "      <th></th>\n",
       "      <th>Date</th>\n",
       "      <th>Open</th>\n",
       "      <th>High</th>\n",
       "      <th>Low</th>\n",
       "      <th>Close</th>\n",
       "      <th>Volume</th>\n",
       "      <th>EMA</th>\n",
       "      <th>20 days Moving Average</th>\n",
       "      <th>CCI</th>\n",
       "    </tr>\n",
       "  </thead>\n",
       "  <tbody>\n",
       "    <tr>\n",
       "      <th>0</th>\n",
       "      <td>1325548800</td>\n",
       "      <td>325.250000</td>\n",
       "      <td>332.829987</td>\n",
       "      <td>324.970001</td>\n",
       "      <td>331.463531</td>\n",
       "      <td>7380500.0</td>\n",
       "      <td>331.463531</td>\n",
       "      <td>289.330658</td>\n",
       "      <td>1333.333252</td>\n",
       "    </tr>\n",
       "    <tr>\n",
       "      <th>1</th>\n",
       "      <td>1325635200</td>\n",
       "      <td>331.269989</td>\n",
       "      <td>333.869995</td>\n",
       "      <td>329.079987</td>\n",
       "      <td>332.892090</td>\n",
       "      <td>5749400.0</td>\n",
       "      <td>331.606387</td>\n",
       "      <td>290.397095</td>\n",
       "      <td>1333.333374</td>\n",
       "    </tr>\n",
       "    <tr>\n",
       "      <th>2</th>\n",
       "      <td>1325721600</td>\n",
       "      <td>329.829987</td>\n",
       "      <td>330.750000</td>\n",
       "      <td>326.890015</td>\n",
       "      <td>328.276733</td>\n",
       "      <td>6590300.0</td>\n",
       "      <td>331.273422</td>\n",
       "      <td>292.615712</td>\n",
       "      <td>1333.333374</td>\n",
       "    </tr>\n",
       "    <tr>\n",
       "      <th>3</th>\n",
       "      <td>1325808000</td>\n",
       "      <td>328.339996</td>\n",
       "      <td>328.769989</td>\n",
       "      <td>323.679993</td>\n",
       "      <td>323.796173</td>\n",
       "      <td>5405900.0</td>\n",
       "      <td>330.525697</td>\n",
       "      <td>295.313431</td>\n",
       "      <td>1333.333374</td>\n",
       "    </tr>\n",
       "    <tr>\n",
       "      <th>4</th>\n",
       "      <td>1326067200</td>\n",
       "      <td>322.040009</td>\n",
       "      <td>322.290009</td>\n",
       "      <td>309.459991</td>\n",
       "      <td>310.069916</td>\n",
       "      <td>11688800.0</td>\n",
       "      <td>328.480119</td>\n",
       "      <td>296.701288</td>\n",
       "      <td>1333.333252</td>\n",
       "    </tr>\n",
       "    <tr>\n",
       "      <th>...</th>\n",
       "      <td>...</td>\n",
       "      <td>...</td>\n",
       "      <td>...</td>\n",
       "      <td>...</td>\n",
       "      <td>...</td>\n",
       "      <td>...</td>\n",
       "      <td>...</td>\n",
       "      <td>...</td>\n",
       "      <td>...</td>\n",
       "    </tr>\n",
       "    <tr>\n",
       "      <th>1268</th>\n",
       "      <td>1484697600</td>\n",
       "      <td>805.809998</td>\n",
       "      <td>806.210022</td>\n",
       "      <td>800.989990</td>\n",
       "      <td>806.070007</td>\n",
       "      <td>1294400.0</td>\n",
       "      <td>797.205408</td>\n",
       "      <td>797.058202</td>\n",
       "      <td>1333.333374</td>\n",
       "    </tr>\n",
       "    <tr>\n",
       "      <th>1269</th>\n",
       "      <td>1484784000</td>\n",
       "      <td>805.119995</td>\n",
       "      <td>809.479980</td>\n",
       "      <td>801.799988</td>\n",
       "      <td>802.169983</td>\n",
       "      <td>919300.0</td>\n",
       "      <td>797.701866</td>\n",
       "      <td>797.967102</td>\n",
       "      <td>1333.333252</td>\n",
       "    </tr>\n",
       "    <tr>\n",
       "      <th>1270</th>\n",
       "      <td>1484870400</td>\n",
       "      <td>806.909973</td>\n",
       "      <td>806.909973</td>\n",
       "      <td>801.690002</td>\n",
       "      <td>805.020020</td>\n",
       "      <td>1670000.0</td>\n",
       "      <td>798.433681</td>\n",
       "      <td>799.017294</td>\n",
       "      <td>1333.333252</td>\n",
       "    </tr>\n",
       "    <tr>\n",
       "      <th>1271</th>\n",
       "      <td>1485129600</td>\n",
       "      <td>807.250000</td>\n",
       "      <td>820.869995</td>\n",
       "      <td>803.739990</td>\n",
       "      <td>819.309998</td>\n",
       "      <td>1963600.0</td>\n",
       "      <td>800.521313</td>\n",
       "      <td>799.790275</td>\n",
       "      <td>1333.333496</td>\n",
       "    </tr>\n",
       "    <tr>\n",
       "      <th>1272</th>\n",
       "      <td>1485216000</td>\n",
       "      <td>822.299988</td>\n",
       "      <td>825.900024</td>\n",
       "      <td>817.820007</td>\n",
       "      <td>823.869995</td>\n",
       "      <td>1474000.0</td>\n",
       "      <td>802.856181</td>\n",
       "      <td>800.457997</td>\n",
       "      <td>1333.333496</td>\n",
       "    </tr>\n",
       "  </tbody>\n",
       "</table>\n",
       "<p>1273 rows × 9 columns</p>\n",
       "</div>"
      ],
      "text/plain": [
       "            Date        Open        High         Low       Close      Volume  \\\n",
       "0     1325548800  325.250000  332.829987  324.970001  331.463531   7380500.0   \n",
       "1     1325635200  331.269989  333.869995  329.079987  332.892090   5749400.0   \n",
       "2     1325721600  329.829987  330.750000  326.890015  328.276733   6590300.0   \n",
       "3     1325808000  328.339996  328.769989  323.679993  323.796173   5405900.0   \n",
       "4     1326067200  322.040009  322.290009  309.459991  310.069916  11688800.0   \n",
       "...          ...         ...         ...         ...         ...         ...   \n",
       "1268  1484697600  805.809998  806.210022  800.989990  806.070007   1294400.0   \n",
       "1269  1484784000  805.119995  809.479980  801.799988  802.169983    919300.0   \n",
       "1270  1484870400  806.909973  806.909973  801.690002  805.020020   1670000.0   \n",
       "1271  1485129600  807.250000  820.869995  803.739990  819.309998   1963600.0   \n",
       "1272  1485216000  822.299988  825.900024  817.820007  823.869995   1474000.0   \n",
       "\n",
       "             EMA  20 days Moving Average          CCI  \n",
       "0     331.463531              289.330658  1333.333252  \n",
       "1     331.606387              290.397095  1333.333374  \n",
       "2     331.273422              292.615712  1333.333374  \n",
       "3     330.525697              295.313431  1333.333374  \n",
       "4     328.480119              296.701288  1333.333252  \n",
       "...          ...                     ...          ...  \n",
       "1268  797.205408              797.058202  1333.333374  \n",
       "1269  797.701866              797.967102  1333.333252  \n",
       "1270  798.433681              799.017294  1333.333252  \n",
       "1271  800.521313              799.790275  1333.333496  \n",
       "1272  802.856181              800.457997  1333.333496  \n",
       "\n",
       "[1273 rows x 9 columns]"
      ]
     },
     "execution_count": 27,
     "metadata": {},
     "output_type": "execute_result"
    }
   ],
   "source": [
    "df_main.head(-5)"
   ]
  },
  {
   "cell_type": "code",
   "execution_count": 28,
   "metadata": {
    "id": "PLUn7YfhE3a-"
   },
   "outputs": [],
   "source": [
    "df_main['EMA'] = pd.to_numeric(df_main['EMA'], downcast=\"float\")\n",
    "df_main['CCI'] = pd.to_numeric(df_main['CCI'], downcast=\"float\")\n",
    "df_main['20 days Moving Average'] = pd.to_numeric(df_main['20 days Moving Average'], downcast=\"float\")"
   ]
  },
  {
   "cell_type": "code",
   "execution_count": 29,
   "metadata": {
    "id": "57YEtYy30vxq"
   },
   "outputs": [],
   "source": [
    "PAST_SEQ = 30\n",
    "FUTURE_PRED = 1\n",
    "EPOCHS = 20\n",
    "BATCH_SIZE = 1"
   ]
  },
  {
   "cell_type": "code",
   "execution_count": 30,
   "metadata": {
    "colab": {
     "base_uri": "https://localhost:8080/",
     "height": 195
    },
    "id": "hW6XCguX0vxs",
    "outputId": "b26aa46b-b13e-4beb-a905-714672014ab4"
   },
   "outputs": [
    {
     "data": {
      "text/html": [
       "<div>\n",
       "<style scoped>\n",
       "    .dataframe tbody tr th:only-of-type {\n",
       "        vertical-align: middle;\n",
       "    }\n",
       "\n",
       "    .dataframe tbody tr th {\n",
       "        vertical-align: top;\n",
       "    }\n",
       "\n",
       "    .dataframe thead th {\n",
       "        text-align: right;\n",
       "    }\n",
       "</style>\n",
       "<table border=\"1\" class=\"dataframe\">\n",
       "  <thead>\n",
       "    <tr style=\"text-align: right;\">\n",
       "      <th></th>\n",
       "      <th>Date</th>\n",
       "      <th>Open</th>\n",
       "      <th>High</th>\n",
       "      <th>Low</th>\n",
       "      <th>Close</th>\n",
       "      <th>Volume</th>\n",
       "      <th>EMA</th>\n",
       "      <th>20 days Moving Average</th>\n",
       "      <th>CCI</th>\n",
       "      <th>Future</th>\n",
       "    </tr>\n",
       "  </thead>\n",
       "  <tbody>\n",
       "    <tr>\n",
       "      <th>0</th>\n",
       "      <td>1325548800</td>\n",
       "      <td>325.250000</td>\n",
       "      <td>332.829987</td>\n",
       "      <td>324.970001</td>\n",
       "      <td>331.463531</td>\n",
       "      <td>7380500.0</td>\n",
       "      <td>331.463531</td>\n",
       "      <td>289.330658</td>\n",
       "      <td>1333.333252</td>\n",
       "      <td>332.892090</td>\n",
       "    </tr>\n",
       "    <tr>\n",
       "      <th>1</th>\n",
       "      <td>1325635200</td>\n",
       "      <td>331.269989</td>\n",
       "      <td>333.869995</td>\n",
       "      <td>329.079987</td>\n",
       "      <td>332.892090</td>\n",
       "      <td>5749400.0</td>\n",
       "      <td>331.606384</td>\n",
       "      <td>290.397095</td>\n",
       "      <td>1333.333374</td>\n",
       "      <td>328.276733</td>\n",
       "    </tr>\n",
       "    <tr>\n",
       "      <th>2</th>\n",
       "      <td>1325721600</td>\n",
       "      <td>329.829987</td>\n",
       "      <td>330.750000</td>\n",
       "      <td>326.890015</td>\n",
       "      <td>328.276733</td>\n",
       "      <td>6590300.0</td>\n",
       "      <td>331.273407</td>\n",
       "      <td>292.615723</td>\n",
       "      <td>1333.333374</td>\n",
       "      <td>323.796173</td>\n",
       "    </tr>\n",
       "    <tr>\n",
       "      <th>3</th>\n",
       "      <td>1325808000</td>\n",
       "      <td>328.339996</td>\n",
       "      <td>328.769989</td>\n",
       "      <td>323.679993</td>\n",
       "      <td>323.796173</td>\n",
       "      <td>5405900.0</td>\n",
       "      <td>330.525696</td>\n",
       "      <td>295.313416</td>\n",
       "      <td>1333.333374</td>\n",
       "      <td>310.069916</td>\n",
       "    </tr>\n",
       "    <tr>\n",
       "      <th>4</th>\n",
       "      <td>1326067200</td>\n",
       "      <td>322.040009</td>\n",
       "      <td>322.290009</td>\n",
       "      <td>309.459991</td>\n",
       "      <td>310.069916</td>\n",
       "      <td>11688800.0</td>\n",
       "      <td>328.480133</td>\n",
       "      <td>296.701294</td>\n",
       "      <td>1333.333252</td>\n",
       "      <td>310.404572</td>\n",
       "    </tr>\n",
       "  </tbody>\n",
       "</table>\n",
       "</div>"
      ],
      "text/plain": [
       "         Date        Open        High         Low       Close      Volume  \\\n",
       "0  1325548800  325.250000  332.829987  324.970001  331.463531   7380500.0   \n",
       "1  1325635200  331.269989  333.869995  329.079987  332.892090   5749400.0   \n",
       "2  1325721600  329.829987  330.750000  326.890015  328.276733   6590300.0   \n",
       "3  1325808000  328.339996  328.769989  323.679993  323.796173   5405900.0   \n",
       "4  1326067200  322.040009  322.290009  309.459991  310.069916  11688800.0   \n",
       "\n",
       "          EMA  20 days Moving Average          CCI      Future  \n",
       "0  331.463531              289.330658  1333.333252  332.892090  \n",
       "1  331.606384              290.397095  1333.333374  328.276733  \n",
       "2  331.273407              292.615723  1333.333374  323.796173  \n",
       "3  330.525696              295.313416  1333.333374  310.069916  \n",
       "4  328.480133              296.701294  1333.333252  310.404572  "
      ]
     },
     "execution_count": 30,
     "metadata": {},
     "output_type": "execute_result"
    }
   ],
   "source": [
    "NAME = f\"{PAST_SEQ} - Sequences- {FUTURE_PRED} - Future Period - {int(time.time())}\"\n",
    "\n",
    "def target(present, future):                    # to see whether its a buy or sell, 2 days into the future\n",
    "    if float(future) > float(present):\n",
    "        return 1\n",
    "    else:\n",
    "        return 0\n",
    "    \n",
    "df_main['Future'] = df_main['Close'].shift(-FUTURE_PRED)  # shifting close column up by 2 days to get future value after 2 days\n",
    "\n",
    "\n",
    "df_main.head()"
   ]
  },
  {
   "cell_type": "code",
   "execution_count": 31,
   "metadata": {
    "id": "DjlEdpgZ0vxv"
   },
   "outputs": [],
   "source": [
    "df_main['Target'] = list(map(target, df_main['Close'], df_main['Future']))"
   ]
  },
  {
   "cell_type": "code",
   "execution_count": 32,
   "metadata": {
    "colab": {
     "base_uri": "https://localhost:8080/",
     "height": 935
    },
    "id": "7qseiRh_0vxx",
    "outputId": "75e60c06-5d4a-4d42-9e7a-39d1d1cf5af9"
   },
   "outputs": [
    {
     "data": {
      "text/html": [
       "<div>\n",
       "<style scoped>\n",
       "    .dataframe tbody tr th:only-of-type {\n",
       "        vertical-align: middle;\n",
       "    }\n",
       "\n",
       "    .dataframe tbody tr th {\n",
       "        vertical-align: top;\n",
       "    }\n",
       "\n",
       "    .dataframe thead th {\n",
       "        text-align: right;\n",
       "    }\n",
       "</style>\n",
       "<table border=\"1\" class=\"dataframe\">\n",
       "  <thead>\n",
       "    <tr style=\"text-align: right;\">\n",
       "      <th></th>\n",
       "      <th>Date</th>\n",
       "      <th>Open</th>\n",
       "      <th>High</th>\n",
       "      <th>Low</th>\n",
       "      <th>Close</th>\n",
       "      <th>Volume</th>\n",
       "      <th>EMA</th>\n",
       "      <th>20 days Moving Average</th>\n",
       "      <th>CCI</th>\n",
       "      <th>Future</th>\n",
       "      <th>Target</th>\n",
       "    </tr>\n",
       "  </thead>\n",
       "  <tbody>\n",
       "    <tr>\n",
       "      <th>0</th>\n",
       "      <td>1325548800</td>\n",
       "      <td>325.250000</td>\n",
       "      <td>332.829987</td>\n",
       "      <td>324.970001</td>\n",
       "      <td>331.463531</td>\n",
       "      <td>7380500.0</td>\n",
       "      <td>331.463531</td>\n",
       "      <td>289.330658</td>\n",
       "      <td>1333.333252</td>\n",
       "      <td>332.892090</td>\n",
       "      <td>1</td>\n",
       "    </tr>\n",
       "    <tr>\n",
       "      <th>1</th>\n",
       "      <td>1325635200</td>\n",
       "      <td>331.269989</td>\n",
       "      <td>333.869995</td>\n",
       "      <td>329.079987</td>\n",
       "      <td>332.892090</td>\n",
       "      <td>5749400.0</td>\n",
       "      <td>331.606384</td>\n",
       "      <td>290.397095</td>\n",
       "      <td>1333.333374</td>\n",
       "      <td>328.276733</td>\n",
       "      <td>0</td>\n",
       "    </tr>\n",
       "    <tr>\n",
       "      <th>2</th>\n",
       "      <td>1325721600</td>\n",
       "      <td>329.829987</td>\n",
       "      <td>330.750000</td>\n",
       "      <td>326.890015</td>\n",
       "      <td>328.276733</td>\n",
       "      <td>6590300.0</td>\n",
       "      <td>331.273407</td>\n",
       "      <td>292.615723</td>\n",
       "      <td>1333.333374</td>\n",
       "      <td>323.796173</td>\n",
       "      <td>0</td>\n",
       "    </tr>\n",
       "    <tr>\n",
       "      <th>3</th>\n",
       "      <td>1325808000</td>\n",
       "      <td>328.339996</td>\n",
       "      <td>328.769989</td>\n",
       "      <td>323.679993</td>\n",
       "      <td>323.796173</td>\n",
       "      <td>5405900.0</td>\n",
       "      <td>330.525696</td>\n",
       "      <td>295.313416</td>\n",
       "      <td>1333.333374</td>\n",
       "      <td>310.069916</td>\n",
       "      <td>0</td>\n",
       "    </tr>\n",
       "    <tr>\n",
       "      <th>4</th>\n",
       "      <td>1326067200</td>\n",
       "      <td>322.040009</td>\n",
       "      <td>322.290009</td>\n",
       "      <td>309.459991</td>\n",
       "      <td>310.069916</td>\n",
       "      <td>11688800.0</td>\n",
       "      <td>328.480133</td>\n",
       "      <td>296.701294</td>\n",
       "      <td>1333.333252</td>\n",
       "      <td>310.404572</td>\n",
       "      <td>1</td>\n",
       "    </tr>\n",
       "  </tbody>\n",
       "</table>\n",
       "</div>"
      ],
      "text/plain": [
       "         Date        Open        High         Low       Close      Volume  \\\n",
       "0  1325548800  325.250000  332.829987  324.970001  331.463531   7380500.0   \n",
       "1  1325635200  331.269989  333.869995  329.079987  332.892090   5749400.0   \n",
       "2  1325721600  329.829987  330.750000  326.890015  328.276733   6590300.0   \n",
       "3  1325808000  328.339996  328.769989  323.679993  323.796173   5405900.0   \n",
       "4  1326067200  322.040009  322.290009  309.459991  310.069916  11688800.0   \n",
       "\n",
       "          EMA  20 days Moving Average          CCI      Future  Target  \n",
       "0  331.463531              289.330658  1333.333252  332.892090       1  \n",
       "1  331.606384              290.397095  1333.333374  328.276733       0  \n",
       "2  331.273407              292.615723  1333.333374  323.796173       0  \n",
       "3  330.525696              295.313416  1333.333374  310.069916       0  \n",
       "4  328.480133              296.701294  1333.333252  310.404572       1  "
      ]
     },
     "execution_count": 32,
     "metadata": {},
     "output_type": "execute_result"
    }
   ],
   "source": [
    "df_main.head()"
   ]
  },
  {
   "cell_type": "code",
   "execution_count": 33,
   "metadata": {
    "id": "d5buj5DE0vxz"
   },
   "outputs": [],
   "source": [
    "df_main.drop(columns=['Future'], inplace = True)"
   ]
  },
  {
   "cell_type": "code",
   "execution_count": 34,
   "metadata": {
    "colab": {
     "base_uri": "https://localhost:8080/",
     "height": 193
    },
    "id": "1BQguyad0vx1",
    "outputId": "5e28a8ef-6bef-459e-bd59-f146a2898241",
    "scrolled": true
   },
   "outputs": [
    {
     "data": {
      "text/plain": [
       "Date                      0\n",
       "Open                      0\n",
       "High                      0\n",
       "Low                       0\n",
       "Close                     0\n",
       "Volume                    0\n",
       "EMA                       0\n",
       "20 days Moving Average    0\n",
       "CCI                       0\n",
       "Target                    0\n",
       "dtype: int64"
      ]
     },
     "execution_count": 34,
     "metadata": {},
     "output_type": "execute_result"
    }
   ],
   "source": [
    "df_main.isna().sum()"
   ]
  },
  {
   "cell_type": "code",
   "execution_count": 35,
   "metadata": {
    "colab": {
     "base_uri": "https://localhost:8080/",
     "height": 34
    },
    "id": "6LxeZ2Km0vx3",
    "outputId": "3ddb988d-7e78-44e1-eed9-2f8cd879f424",
    "scrolled": false
   },
   "outputs": [
    {
     "data": {
      "text/plain": [
       "1151"
      ]
     },
     "execution_count": 35,
     "metadata": {},
     "output_type": "execute_result"
    }
   ],
   "source": [
    "date = sorted(df_main.index.values)\n",
    "val_part = date[-int(0.10*len(date))] # last 5 percent dates start with index numer 1196 which we will use for making validation set\n",
    "val_part"
   ]
  },
  {
   "cell_type": "code",
   "execution_count": 36,
   "metadata": {
    "id": "vOpD35M40vx7"
   },
   "outputs": [],
   "source": [
    "df_validation = df_main[df_main.index >= val_part]\n",
    "df_main = df_main[df_main.index < val_part]"
   ]
  },
  {
   "cell_type": "code",
   "execution_count": 37,
   "metadata": {
    "colab": {
     "base_uri": "https://localhost:8080/",
     "height": 195
    },
    "id": "HGkkPu640vx9",
    "outputId": "df070117-ea63-489c-908c-bf25524833e9",
    "scrolled": true
   },
   "outputs": [
    {
     "data": {
      "text/html": [
       "<div>\n",
       "<style scoped>\n",
       "    .dataframe tbody tr th:only-of-type {\n",
       "        vertical-align: middle;\n",
       "    }\n",
       "\n",
       "    .dataframe tbody tr th {\n",
       "        vertical-align: top;\n",
       "    }\n",
       "\n",
       "    .dataframe thead th {\n",
       "        text-align: right;\n",
       "    }\n",
       "</style>\n",
       "<table border=\"1\" class=\"dataframe\">\n",
       "  <thead>\n",
       "    <tr style=\"text-align: right;\">\n",
       "      <th></th>\n",
       "      <th>Date</th>\n",
       "      <th>Open</th>\n",
       "      <th>High</th>\n",
       "      <th>Low</th>\n",
       "      <th>Close</th>\n",
       "      <th>Volume</th>\n",
       "      <th>EMA</th>\n",
       "      <th>20 days Moving Average</th>\n",
       "      <th>CCI</th>\n",
       "      <th>Target</th>\n",
       "    </tr>\n",
       "  </thead>\n",
       "  <tbody>\n",
       "    <tr>\n",
       "      <th>0</th>\n",
       "      <td>1325548800</td>\n",
       "      <td>325.250000</td>\n",
       "      <td>332.829987</td>\n",
       "      <td>324.970001</td>\n",
       "      <td>331.463531</td>\n",
       "      <td>7380500.0</td>\n",
       "      <td>331.463531</td>\n",
       "      <td>289.330658</td>\n",
       "      <td>1333.333252</td>\n",
       "      <td>1</td>\n",
       "    </tr>\n",
       "    <tr>\n",
       "      <th>1</th>\n",
       "      <td>1325635200</td>\n",
       "      <td>331.269989</td>\n",
       "      <td>333.869995</td>\n",
       "      <td>329.079987</td>\n",
       "      <td>332.892090</td>\n",
       "      <td>5749400.0</td>\n",
       "      <td>331.606384</td>\n",
       "      <td>290.397095</td>\n",
       "      <td>1333.333374</td>\n",
       "      <td>0</td>\n",
       "    </tr>\n",
       "    <tr>\n",
       "      <th>2</th>\n",
       "      <td>1325721600</td>\n",
       "      <td>329.829987</td>\n",
       "      <td>330.750000</td>\n",
       "      <td>326.890015</td>\n",
       "      <td>328.276733</td>\n",
       "      <td>6590300.0</td>\n",
       "      <td>331.273407</td>\n",
       "      <td>292.615723</td>\n",
       "      <td>1333.333374</td>\n",
       "      <td>0</td>\n",
       "    </tr>\n",
       "    <tr>\n",
       "      <th>3</th>\n",
       "      <td>1325808000</td>\n",
       "      <td>328.339996</td>\n",
       "      <td>328.769989</td>\n",
       "      <td>323.679993</td>\n",
       "      <td>323.796173</td>\n",
       "      <td>5405900.0</td>\n",
       "      <td>330.525696</td>\n",
       "      <td>295.313416</td>\n",
       "      <td>1333.333374</td>\n",
       "      <td>0</td>\n",
       "    </tr>\n",
       "    <tr>\n",
       "      <th>4</th>\n",
       "      <td>1326067200</td>\n",
       "      <td>322.040009</td>\n",
       "      <td>322.290009</td>\n",
       "      <td>309.459991</td>\n",
       "      <td>310.069916</td>\n",
       "      <td>11688800.0</td>\n",
       "      <td>328.480133</td>\n",
       "      <td>296.701294</td>\n",
       "      <td>1333.333252</td>\n",
       "      <td>1</td>\n",
       "    </tr>\n",
       "  </tbody>\n",
       "</table>\n",
       "</div>"
      ],
      "text/plain": [
       "         Date        Open        High         Low       Close      Volume  \\\n",
       "0  1325548800  325.250000  332.829987  324.970001  331.463531   7380500.0   \n",
       "1  1325635200  331.269989  333.869995  329.079987  332.892090   5749400.0   \n",
       "2  1325721600  329.829987  330.750000  326.890015  328.276733   6590300.0   \n",
       "3  1325808000  328.339996  328.769989  323.679993  323.796173   5405900.0   \n",
       "4  1326067200  322.040009  322.290009  309.459991  310.069916  11688800.0   \n",
       "\n",
       "          EMA  20 days Moving Average          CCI  Target  \n",
       "0  331.463531              289.330658  1333.333252       1  \n",
       "1  331.606384              290.397095  1333.333374       0  \n",
       "2  331.273407              292.615723  1333.333374       0  \n",
       "3  330.525696              295.313416  1333.333374       0  \n",
       "4  328.480133              296.701294  1333.333252       1  "
      ]
     },
     "execution_count": 37,
     "metadata": {},
     "output_type": "execute_result"
    }
   ],
   "source": [
    "df_main.head()"
   ]
  },
  {
   "cell_type": "code",
   "execution_count": 38,
   "metadata": {
    "id": "8HUtvtvD0vyD"
   },
   "outputs": [],
   "source": [
    "def preprocess(df):\n",
    "    for column in df.columns:\n",
    "        if column != 'Target':\n",
    "            df[column] = df[column].pct_change()\n",
    "            df.dropna(inplace=True)\n",
    "            df[column] = preprocessing.scale(df[column].values)\n",
    "    df.dropna(inplace = True)\n",
    "    data_sequences = []\n",
    "    past_days = deque(maxlen = PAST_SEQ)\n",
    "#     past_days = deque([0]*PAST_SEQ, maxlen = PAST_SEQ)\n",
    "    \n",
    "    for i in df.values:\n",
    "        past_days.append([j for j in i[:-1]])\n",
    "        if len(past_days) == PAST_SEQ:\n",
    "            data_sequences.append([np.array(past_days), i[-1]])\n",
    "    random.shuffle(data_sequences)\n",
    "    \n",
    "    dont_buy = []\n",
    "    buy = []\n",
    "    \n",
    "    for sequence, target in data_sequences:\n",
    "        if target == 0:  # dont_buy\n",
    "            dont_buy.append([sequence, target])\n",
    "        if target == 1:  # buy\n",
    "            buy.append([sequence, target])\n",
    "            \n",
    "    random.shuffle(buy)\n",
    "    random.shuffle(dont_buy)\n",
    "    \n",
    "    lowest = min(len(buy), len(dont_buy))\n",
    "    \n",
    "    buy = buy[:lowest]\n",
    "    dont_buy = dont_buy[:lowest]\n",
    "    \n",
    "    data_sequences = buy+dont_buy\n",
    "    \n",
    "    random.shuffle(data_sequences)\n",
    "    \n",
    "    \n",
    "    x = []\n",
    "    y = []\n",
    "    \n",
    "    for sequence, target in data_sequences:\n",
    "        x.append(sequence)\n",
    "        y.append(target)\n",
    "        \n",
    "    return np.array(x), y\n",
    "        \n",
    "    \n",
    "    "
   ]
  },
  {
   "cell_type": "code",
   "execution_count": 39,
   "metadata": {
    "id": "1Gv1WNPD0vyH"
   },
   "outputs": [],
   "source": [
    "train_x, train_y = preprocess(df_main)\n",
    "validation_x, validation_y = preprocess(df_validation)"
   ]
  },
  {
   "cell_type": "code",
   "execution_count": 40,
   "metadata": {
    "id": "AmKHARBi0vyJ"
   },
   "outputs": [],
   "source": [
    "train_y = np.asarray(train_y)\n",
    "validation_y = np.asarray(validation_y)"
   ]
  },
  {
   "cell_type": "code",
   "execution_count": 41,
   "metadata": {
    "colab": {
     "base_uri": "https://localhost:8080/",
     "height": 1000
    },
    "id": "QWomYuxl0vyO",
    "outputId": "3bc04a70-a91d-41d1-c502-0aed09d4464e",
    "scrolled": false
   },
   "outputs": [
    {
     "name": "stdout",
     "output_type": "stream",
     "text": [
      "Epoch 1/30\n",
      " 1/55 [..............................] - ETA: 0s - loss: 0.6867 - accuracy: 0.6000WARNING:tensorflow:From C:\\Users\\ISHU\\anaconda3\\envs\\SML\\lib\\site-packages\\tensorflow\\python\\ops\\summary_ops_v2.py:1277: stop (from tensorflow.python.eager.profiler) is deprecated and will be removed after 2020-07-01.\n",
      "Instructions for updating:\n",
      "use `tf.profiler.experimental.stop` instead.\n",
      " 2/55 [>.............................] - ETA: 18s - loss: 0.6881 - accuracy: 0.5250WARNING:tensorflow:Callbacks method `on_train_batch_end` is slow compared to the batch time (batch time: 0.0712s vs `on_train_batch_end` time: 0.6274s). Check your callbacks.\n",
      "55/55 [==============================] - 4s 80ms/step - loss: 0.6935 - accuracy: 0.4963 - val_loss: 0.6932 - val_accuracy: 0.4767\n",
      "Epoch 2/30\n",
      "55/55 [==============================] - 2s 36ms/step - loss: 0.6923 - accuracy: 0.5201 - val_loss: 0.6921 - val_accuracy: 0.5116\n",
      "Epoch 3/30\n",
      "55/55 [==============================] - 2s 36ms/step - loss: 0.6914 - accuracy: 0.5604 - val_loss: 0.6899 - val_accuracy: 0.5233\n",
      "Epoch 4/30\n",
      "55/55 [==============================] - 2s 35ms/step - loss: 0.6902 - accuracy: 0.5595 - val_loss: 0.6873 - val_accuracy: 0.5233\n",
      "Epoch 5/30\n",
      "55/55 [==============================] - 2s 36ms/step - loss: 0.6885 - accuracy: 0.5659 - val_loss: 0.6856 - val_accuracy: 0.5465\n",
      "Epoch 6/30\n",
      "55/55 [==============================] - 2s 37ms/step - loss: 0.6879 - accuracy: 0.5632 - val_loss: 0.6830 - val_accuracy: 0.5233\n",
      "Epoch 7/30\n",
      "55/55 [==============================] - 2s 36ms/step - loss: 0.6869 - accuracy: 0.5568 - val_loss: 0.6823 - val_accuracy: 0.5581\n",
      "Epoch 8/30\n",
      "55/55 [==============================] - 2s 36ms/step - loss: 0.6854 - accuracy: 0.5623 - val_loss: 0.6795 - val_accuracy: 0.5814\n",
      "Epoch 9/30\n",
      "55/55 [==============================] - 2s 35ms/step - loss: 0.6841 - accuracy: 0.5632 - val_loss: 0.6784 - val_accuracy: 0.5349\n",
      "Epoch 10/30\n",
      "55/55 [==============================] - 2s 34ms/step - loss: 0.6819 - accuracy: 0.5797 - val_loss: 0.6771 - val_accuracy: 0.5349\n",
      "Epoch 11/30\n",
      "55/55 [==============================] - 2s 36ms/step - loss: 0.6817 - accuracy: 0.5806 - val_loss: 0.6751 - val_accuracy: 0.5465\n",
      "Epoch 12/30\n",
      "55/55 [==============================] - 2s 33ms/step - loss: 0.6801 - accuracy: 0.5824 - val_loss: 0.6739 - val_accuracy: 0.6163\n",
      "Epoch 13/30\n",
      "55/55 [==============================] - 2s 34ms/step - loss: 0.6805 - accuracy: 0.5852 - val_loss: 0.6742 - val_accuracy: 0.6047\n",
      "Epoch 14/30\n",
      "55/55 [==============================] - 2s 38ms/step - loss: 0.6769 - accuracy: 0.5907 - val_loss: 0.6712 - val_accuracy: 0.6279\n",
      "Epoch 15/30\n",
      "55/55 [==============================] - 2s 37ms/step - loss: 0.6776 - accuracy: 0.5989 - val_loss: 0.6690 - val_accuracy: 0.5814\n",
      "Epoch 16/30\n",
      "55/55 [==============================] - 2s 38ms/step - loss: 0.6771 - accuracy: 0.5897 - val_loss: 0.6677 - val_accuracy: 0.6395\n",
      "Epoch 17/30\n",
      "55/55 [==============================] - 2s 36ms/step - loss: 0.6738 - accuracy: 0.5934 - val_loss: 0.6675 - val_accuracy: 0.5930\n",
      "Epoch 18/30\n",
      "55/55 [==============================] - 2s 35ms/step - loss: 0.6747 - accuracy: 0.5870 - val_loss: 0.6643 - val_accuracy: 0.6279\n",
      "Epoch 19/30\n",
      "55/55 [==============================] - 2s 35ms/step - loss: 0.6726 - accuracy: 0.5952 - val_loss: 0.6638 - val_accuracy: 0.6163\n",
      "Epoch 20/30\n",
      "55/55 [==============================] - 2s 35ms/step - loss: 0.6725 - accuracy: 0.5897 - val_loss: 0.6636 - val_accuracy: 0.5930\n",
      "Epoch 21/30\n",
      "55/55 [==============================] - 2s 34ms/step - loss: 0.6721 - accuracy: 0.5934 - val_loss: 0.6658 - val_accuracy: 0.5698\n",
      "Epoch 22/30\n",
      "55/55 [==============================] - 2s 38ms/step - loss: 0.6692 - accuracy: 0.5943 - val_loss: 0.6639 - val_accuracy: 0.5698\n",
      "Epoch 23/30\n",
      "55/55 [==============================] - 2s 37ms/step - loss: 0.6698 - accuracy: 0.5989 - val_loss: 0.6591 - val_accuracy: 0.6047\n",
      "Epoch 24/30\n",
      "55/55 [==============================] - 2s 35ms/step - loss: 0.6675 - accuracy: 0.6062 - val_loss: 0.6636 - val_accuracy: 0.5930\n",
      "Epoch 25/30\n",
      "55/55 [==============================] - 2s 36ms/step - loss: 0.6678 - accuracy: 0.6126 - val_loss: 0.6639 - val_accuracy: 0.5814\n",
      "Epoch 26/30\n",
      "55/55 [==============================] - 2s 34ms/step - loss: 0.6657 - accuracy: 0.6126 - val_loss: 0.6642 - val_accuracy: 0.5930\n",
      "Epoch 27/30\n",
      "55/55 [==============================] - 2s 35ms/step - loss: 0.6650 - accuracy: 0.6099 - val_loss: 0.6629 - val_accuracy: 0.6163\n",
      "Epoch 28/30\n",
      "55/55 [==============================] - 2s 37ms/step - loss: 0.6657 - accuracy: 0.6044 - val_loss: 0.6612 - val_accuracy: 0.6395\n",
      "Epoch 29/30\n",
      "55/55 [==============================] - 2s 34ms/step - loss: 0.6679 - accuracy: 0.6190 - val_loss: 0.6608 - val_accuracy: 0.6395\n",
      "Epoch 30/30\n",
      "55/55 [==============================] - 2s 36ms/step - loss: 0.6656 - accuracy: 0.6126 - val_loss: 0.6602 - val_accuracy: 0.6395\n",
      "WARNING:tensorflow:From C:\\Users\\ISHU\\anaconda3\\envs\\SML\\lib\\site-packages\\tensorflow\\python\\training\\tracking\\tracking.py:111: Model.state_updates (from tensorflow.python.keras.engine.training) is deprecated and will be removed in a future version.\n",
      "Instructions for updating:\n",
      "This property should not be used in TensorFlow 2.0, as updates are applied automatically.\n",
      "WARNING:tensorflow:From C:\\Users\\ISHU\\anaconda3\\envs\\SML\\lib\\site-packages\\tensorflow\\python\\training\\tracking\\tracking.py:111: Layer.updates (from tensorflow.python.keras.engine.base_layer) is deprecated and will be removed in a future version.\n",
      "Instructions for updating:\n",
      "This property should not be used in TensorFlow 2.0, as updates are applied automatically.\n",
      "INFO:tensorflow:Assets written to: models1/30 - Sequences- 1 - Future Period - 1602829935\\assets\n"
     ]
    }
   ],
   "source": [
    "model = Sequential()\n",
    "model.add(LSTM(50, input_shape = (train_x.shape[1:]), return_sequences = True))\n",
    "model.add(Dropout(0.2))\n",
    "\n",
    "model.add(LSTM(50,input_shape = (train_x.shape[1:]), return_sequences = True))\n",
    "model.add(Dropout(0.2))\n",
    "\n",
    "model.add(LSTM(50,input_shape = (train_x.shape[1:]), return_sequences = True))\n",
    "model.add(Dropout(0.2))\n",
    "\n",
    "model.add(LSTM(50))\n",
    "model.add(Dropout(0.2))\n",
    "\n",
    "model.add(Dense(2, activation = 'softmax'))\n",
    "\n",
    "optimizer = tensorflow.keras.optimizers.Adam(lr = 0.0001, decay = 1e-6)\n",
    "\n",
    "model.compile(loss = 'sparse_categorical_crossentropy', \n",
    "             optimizer = optimizer,\n",
    "             metrics = ['accuracy'])\n",
    "\n",
    "tensorboard = TensorBoard(log_dir=\"logs/{}\".format(NAME))\n",
    "\n",
    "history = model.fit(\n",
    "    train_x, train_y,\n",
    "    batch_size=20,\n",
    "    epochs=30,\n",
    "    validation_data=(validation_x, validation_y),\n",
    "    callbacks= tensorboard )\n",
    "\n",
    "model.save(\"models1/{}\".format(NAME))"
   ]
  },
  {
   "cell_type": "code",
   "execution_count": 42,
   "metadata": {
    "colab": {
     "base_uri": "https://localhost:8080/",
     "height": 52
    },
    "id": "K532OAww0vyS",
    "outputId": "ed3efdb5-fc59-46e3-c1f6-ec714a2878db",
    "scrolled": false
   },
   "outputs": [
    {
     "name": "stdout",
     "output_type": "stream",
     "text": [
      "Test loss: 0.6602492928504944\n",
      "Test accuracy: 0.6395348906517029\n",
      "INFO:tensorflow:Assets written to: models/30 - Sequences- 1 - Future Period - 1602829935\\assets\n"
     ]
    }
   ],
   "source": [
    "score = model.evaluate(validation_x, validation_y, verbose=0)\n",
    "print('Test loss:', score[0])\n",
    "print('Test accuracy:', score[1])\n",
    "# Save model\n",
    "model.save(\"models/{}\".format(NAME))"
   ]
  },
  {
   "cell_type": "code",
   "execution_count": 43,
   "metadata": {
    "id": "k3RYPxxE0vyU"
   },
   "outputs": [
    {
     "data": {
      "text/plain": [
       "Reusing TensorBoard on port 6006 (pid 10268), started 19:57:43 ago. (Use '!kill 10268' to kill it.)"
      ]
     },
     "metadata": {},
     "output_type": "display_data"
    },
    {
     "data": {
      "text/html": [
       "\n",
       "      <iframe id=\"tensorboard-frame-edb4c9f4aee12526\" width=\"100%\" height=\"800\" frameborder=\"0\">\n",
       "      </iframe>\n",
       "      <script>\n",
       "        (function() {\n",
       "          const frame = document.getElementById(\"tensorboard-frame-edb4c9f4aee12526\");\n",
       "          const url = new URL(\"/\", window.location);\n",
       "          const port = 6006;\n",
       "          if (port) {\n",
       "            url.port = port;\n",
       "          }\n",
       "          frame.src = url;\n",
       "        })();\n",
       "      </script>\n",
       "    "
      ],
      "text/plain": [
       "<IPython.core.display.HTML object>"
      ]
     },
     "metadata": {},
     "output_type": "display_data"
    }
   ],
   "source": [
    "%load_ext tensorboard\n",
    "%tensorboard --logdir logs"
   ]
  },
  {
   "cell_type": "code",
   "execution_count": 84,
   "metadata": {
    "scrolled": false
   },
   "outputs": [
    {
     "data": {
      "image/png": "[encoded data removed]",
      "text/plain": [
       "<Figure size 288x288 with 1 Axes>"
      ]
     },
     "metadata": {},
     "output_type": "display_data"
    }
   ],
   "source": [
    "from sklearn.metrics import accuracy_score\n",
    "predictions = model.predict(validation_x)\n",
    "predictions\n",
    "pre = []\n",
    "for i in range(len(predictions)):\n",
    "    if predictions[i][1] >= 0.5:\n",
    "        pre.append(1)\n",
    "    if predictions[i][1] < 0.5:\n",
    "        pre.append(0)\n",
    "        \n",
    "score = accuracy_score(validation_y,pre)\n",
    "error = 1 - score        \n",
    "\n",
    "labels = 'Correct', 'Incorrect'\n",
    "sizes = [score,error]\n",
    "plt.figure(figsize=(4,4))\n",
    "plt.pie(sizes, explode=(0,0.1), labels=labels, autopct='%1.1f%%',\n",
    "        shadow=True, startangle=90)\n",
    "plt.title('Performance')\n",
    "\n",
    "plt.show()"
   ]
  }
 ],
 "metadata": {
  "accelerator": "GPU",
  "colab": {
   "collapsed_sections": [],
   "name": "DL 3 (3).ipynb",
   "provenance": []
  },
  "kernelspec": {
   "display_name": "Python 3",
   "language": "python",
   "name": "python3"
  },
  "language_info": {
   "codemirror_mode": {
    "name": "ipython",
    "version": 3
   },
   "file_extension": ".py",
   "mimetype": "text/x-python",
   "name": "python",
   "nbconvert_exporter": "python",
   "pygments_lexer": "ipython3",
   "version": "3.8.5"
  }
 },
 "nbformat": 4,
 "nbformat_minor": 1
}
